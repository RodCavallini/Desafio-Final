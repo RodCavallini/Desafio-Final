{
 "cells": [
  {
   "cell_type": "code",
   "execution_count": 1,
   "metadata": {},
   "outputs": [
    {
     "name": "stdout",
     "output_type": "stream",
     "text": [
      "Requirement already satisfied: plyer in c:\\users\\rodri\\desktop\\desafio final\\venv\\lib\\site-packages (2.1.0)\n",
      "Note: you may need to restart the kernel to use updated packages.\n"
     ]
    }
   ],
   "source": [
    "%pip install plyer\n",
    "import pandas as pd\n",
    "import numpy as np\n",
    "import sqlite3\n",
    "from datetime import datetime\n",
    "from plyer import notification \n",
    "import requests"
   ]
  },
  {
   "cell_type": "code",
   "execution_count": 13,
   "metadata": {},
   "outputs": [],
   "source": [
    "def get_url(url,nome_df):\n",
    "    response = requests.get(url)\n",
    "\n",
    "    if response.status_code == 200:\n",
    "        data_json = response.json()\n",
    "        return data_json\n",
    "response = requests.get(url)\n",
    "if response.status_code == 200:\n",
    "    data_json = response.json()\n",
    "    notification.notify(\n",
    "     title='SUCESSO',\n",
    "     message='Base carregada com sucesso',\n",
    "     app_name='API',\n",
    "     timeout=10 )\n",
    "else:\n",
    "    notification.notify(\n",
    "     title='ERRO',\n",
    "     message='Erro ao carregar base de dados',\n",
    "     app_name='API',\n",
    "     timeout=10 )\n",
    "    nome_df  = pd.DataFrame(data_json)\n",
    "    nome_df(10)"
   ]
  }
 ],
 "metadata": {
  "kernelspec": {
   "display_name": "venv",
   "language": "python",
   "name": "python3"
  },
  "language_info": {
   "codemirror_mode": {
    "name": "ipython",
    "version": 3
   },
   "file_extension": ".py",
   "mimetype": "text/x-python",
   "name": "python",
   "nbconvert_exporter": "python",
   "pygments_lexer": "ipython3",
   "version": "3.12.4"
  }
 },
 "nbformat": 4,
 "nbformat_minor": 2
}
